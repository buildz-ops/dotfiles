{
 "cells": [
  {
   "cell_type": "markdown",
   "metadata": {},
   "source": [
    "# EXERCICIS INICIALS"
   ]
  },
  {
   "cell_type": "markdown",
   "metadata": {},
   "source": [
    "## Exercici 1\n",
    "\n",
    "Escribe un programa que pregunte al usuario su nombre mediante consola. A continuación ha de imprimir por consola ```Hola nombre!```, donde *nombre* es el nombre que ha introducido el usuario."
   ]
  },
  {
   "cell_type": "code",
   "execution_count": null,
   "metadata": {},
   "outputs": [],
   "source": [
    "nombre = input(\"Dime tu nombre: \")\n",
    "print(\"Hola \"+nombre+\"!\")"
   ]
  },
  {
   "cell_type": "code",
   "execution_count": null,
   "metadata": {},
   "outputs": [],
   "source": []
  },
  {
   "cell_type": "code",
   "execution_count": null,
   "metadata": {},
   "outputs": [],
   "source": []
  },
  {
   "cell_type": "markdown",
   "metadata": {},
   "source": [
    "## Exercici 2\n",
    "\n",
    "Escriu un programa que llegeixi un enter positiu, *n*, introduït per l'usuari i després mostri per pantalla la suma de tots els enters des d'1 fins a *n*. La suma dels *n* primers enters positius pot ser calculada de la manera següent:\n",
    "\n",
    "$suma = \\frac{n(n+1)}{2}$"
   ]
  },
  {
   "cell_type": "code",
   "execution_count": 3,
   "metadata": {},
   "outputs": [
    {
     "name": "stdout",
     "output_type": "stream",
     "text": [
      "<class 'int'>\n",
      "<class 'int'>\n",
      "359128\n"
     ]
    }
   ],
   "source": [
    "n=input(\"Dime un número entero y positivo maraca conchetumare: \")\n",
    "#Supongo que el ususario habrá puesto un número entero y positivo, está avisado.\n",
    "n=int(n)\n",
    "print(type(n))\n",
    "suma=(n*(n+1))/2\n",
    "suma=int(suma)\n",
    "print(type(suma))\n",
    "suma=str(suma)\n",
    "print(suma)\n"
   ]
  },
  {
   "cell_type": "markdown",
   "metadata": {},
   "source": [
    "## Exercici 3\n",
    "\n",
    "Escriu un programa que demani a l'usuari dos nombres enters i mostri per pantalla ```<n> / <m> dona un quocient de <c> i un residu de <r>``` on *n* i *m* són els números introduïts per l'usuari, i *c* i *r* són el quocient i el residu de la divisió entera."
   ]
  },
  {
   "cell_type": "code",
   "execution_count": 10,
   "metadata": {},
   "outputs": [
    {
     "name": "stdout",
     "output_type": "stream",
     "text": [
      "798/45 dona un quocient de 17 i un residu de 33\n"
     ]
    }
   ],
   "source": [
    "n=input(\"Dime un número entero para que haga de dividendo: \")\n",
    "m=input(\"Dime un número entero para que haga de divisor: \")\n",
    "#Supongo que el ususario habrá puesto números enteros y positivos, está avisado.\n",
    "n=int(n)\n",
    "m=int(m)\n",
    "cuo=n//m\n",
    "res=n%m\n",
    "print( str(n) + \"/\" + str(m) + \" \" + \"dona un quocient de \" + str(cuo) + \" \" + \"i un residu de \" + str(res) )\n"
   ]
  },
  {
   "cell_type": "markdown",
   "metadata": {},
   "source": [
    "## Exercici 4\n",
    "\n",
    "Escriu un programa que pregunti a l'usuari la seva edat i mostri per pantalla si és major d'edat o no."
   ]
  },
  {
   "cell_type": "code",
   "execution_count": 22,
   "metadata": {},
   "outputs": [
    {
     "name": "stdout",
     "output_type": "stream",
     "text": [
      "Has dicho que tienes 78\n",
      "Eres mayor de 18 años 🤙\n"
     ]
    }
   ],
   "source": [
    "edat=input(\"¿Cual es tu edad actual?: \")\n",
    "print(\"Has dicho que tienes \" + edat)\n",
    "edat=int(edat)\n",
    "\n",
    "\n",
    "if edat < 18:\n",
    "    print(\"Eres menor de 18\")\n",
    "else:\n",
    "    print(\"Eres mayor de 18 años 🤙\")"
   ]
  },
  {
   "cell_type": "markdown",
   "metadata": {},
   "source": [
    "## Exercici 5\n",
    "\n",
    "Escriu un programa que demani a l'usuari dos numeros i mostri per pantalla la seva divisió. Si el divisor és zero el programa ha de mostrar un error."
   ]
  },
  {
   "cell_type": "code",
   "execution_count": 30,
   "metadata": {},
   "outputs": [
    {
     "name": "stdout",
     "output_type": "stream",
     "text": [
      "Tu dividendo es = 50.0 y tu divisor es = 0.0\n",
      "ERROR CRÍTICO: No se puede ejecutar el programa porqué el divisor es 0\n"
     ]
    }
   ],
   "source": [
    "dividendo=input(\"Dime un número para que haga de dividendo: \")\n",
    "divisor=input(\"Dime un número para que haga de divisor: \")\n",
    "#Supongo que el ususario habrá puesto números enteros y positivos, está avisado.\n",
    "dividendo=float(dividendo)\n",
    "divisor=float(divisor)\n",
    "print(\"Tu dividendo es = \" + str(dividendo) + \" y tu divisor es = \" + str(divisor))\n",
    "if divisor == 0:\n",
    "    print(\"ERROR CRÍTICO: No se puede ejecutar el programa porqué el divisor es 0\")\n",
    "else:\n",
    "    cuo=dividendo/divisor\n",
    "    print(\"El resultado de la división es el siguiente: \" + str(cuo))\n"
   ]
  },
  {
   "cell_type": "markdown",
   "metadata": {},
   "source": [
    "## Exercici 6\n",
    "\n",
    "Escriu un programa que demani a l'usuari un nombre enter i mostri per pantalla si és parell o imparell."
   ]
  },
  {
   "cell_type": "code",
   "execution_count": 11,
   "metadata": {},
   "outputs": [
    {
     "name": "stdout",
     "output_type": "stream",
     "text": [
      "El número es impar\n"
     ]
    }
   ],
   "source": [
    "n=input(\"Escribe un número entero: \")\n",
    "n=int(n)\n",
    "if n%2==0:\n",
    "    print(\"El número es par\")\n",
    "else:\n",
    "    print(\"El número es impar\")"
   ]
  },
  {
   "cell_type": "markdown",
   "metadata": {},
   "source": [
    "## Exercici 7\n",
    "\n",
    "Els alumnes d'un curs s'han dividit en dos grups A i B d'acord amb el sexe i el nom. El grup A esta format per les dones amb un nom anterior a la M i els homes amb un nom posterior a la N i el grup B per la resta. Escriu un programa que pregunti a l'usuari el seu nom i sexe, i mostri per pantalla el grup que li correspon."
   ]
  },
  {
   "cell_type": "code",
   "execution_count": 26,
   "metadata": {},
   "outputs": [
    {
     "name": "stdout",
     "output_type": "stream",
     "text": [
      "Eres del Grupo A, Irene\n"
     ]
    }
   ],
   "source": [
    "nombre=input(\"¿Cuál es tu nombre? (En mayúsculas): \")\n",
    "sexo=input(\"¿Cuál es tu sexo (Hombre | Mujer)?: \")\n",
    "\n",
    "if (sexo==\"Mujer\" and str(nombre.upper) < 'M') or (sexo==\"Hombre\" and str(nombre.upper) > 'N'):\n",
    "    print(\"Eres del Grupo A, \"+nombre)\n",
    "else:\n",
    "    print(\"Eres del grupo B, \"+nombre)\n"
   ]
  },
  {
   "cell_type": "markdown",
   "metadata": {},
   "source": [
    "## Exercici 8\n",
    "\n",
    "Escriu un programa que pregunti a l'usuari la seva edat i mostri per pantalla tots els anys que ha complert (des d'1 fins a la seva edat)."
   ]
  },
  {
   "cell_type": "code",
   "execution_count": 3,
   "metadata": {},
   "outputs": [
    {
     "name": "stdout",
     "output_type": "stream",
     "text": [
      "0\n",
      "1\n",
      "2\n",
      "3\n",
      "4\n",
      "5\n",
      "6\n",
      "7\n",
      "8\n",
      "9\n",
      "10\n",
      "11\n",
      "12\n",
      "13\n",
      "14\n",
      "15\n",
      "16\n",
      "17\n",
      "18\n"
     ]
    }
   ],
   "source": [
    "edad=input(\"¿Cuál es tu edad?: \")\n",
    "n=0\n",
    "\n",
    "while n<=int(edad):\n",
    "    print(n)\n",
    "    n=n+1\n"
   ]
  },
  {
   "cell_type": "markdown",
   "metadata": {},
   "source": [
    "## Exercici 9\n",
    "\n",
    "Escriu un programa que demani a l'usuari un nombre enter i mostri per pantalla un triangle rectangle com el següent, d'altura el número introduït.\n",
    "\n",
    "```\n",
    "*\n",
    "**\n",
    "***\n",
    "****\n",
    "*****\n",
    "```"
   ]
  },
  {
   "cell_type": "code",
   "execution_count": 13,
   "metadata": {},
   "outputs": [
    {
     "name": "stdout",
     "output_type": "stream",
     "text": [
      "*\n",
      "**\n",
      "***\n",
      "****\n",
      "*****\n",
      "******\n",
      "*******\n",
      "********\n",
      "*********\n",
      "**********\n",
      "***********\n",
      "************\n",
      "*************\n",
      "**************\n",
      "***************\n"
     ]
    }
   ],
   "source": [
    "n=input(\"Elije un número entero y positivo: \")\n",
    "a=1\n",
    "\n",
    "while a<=int(n):\n",
    "    print(\"*\"*a)\n",
    "    a=a+1"
   ]
  },
  {
   "cell_type": "markdown",
   "metadata": {},
   "source": [
    "## Exercici 10\n",
    "\n",
    "Escriu un programa que mostri per pantalla la repetició de tot el que l'usuari introdueixi fins que l'usuari escrigui *exit* que acabarà."
   ]
  },
  {
   "cell_type": "code",
   "execution_count": 16,
   "metadata": {},
   "outputs": [
    {
     "name": "stdout",
     "output_type": "stream",
     "text": [
      "- Hola Don Petito\n",
      ". Hola Don José\n",
      "- Pasó ud. por mi casa?\n",
      "- Por su casa yo pasé\n",
      "- Vió ud. a mi abuela?\n",
      "Vió ud. a mi abuela?\n",
      "- A su abuela yo la ví\n",
      "- Adios Don Pepito\n",
      "- Adiós Don José\n"
     ]
    }
   ],
   "source": [
    "texto=input(\"Por favor, para empezar a repetir cosas, introduce cualquier palabra. Escriba 'exit' para parar el programa:\" )\n",
    "while texto!=\"exit\":\n",
    "    print(texto)\n",
    "    texto=input(\"\")"
   ]
  }
 ],
 "metadata": {
  "kernelspec": {
   "display_name": "Python 3",
   "language": "python",
   "name": "python3"
  },
  "language_info": {
   "codemirror_mode": {
    "name": "ipython",
    "version": 3
   },
   "file_extension": ".py",
   "mimetype": "text/x-python",
   "name": "python",
   "nbconvert_exporter": "python",
   "pygments_lexer": "ipython3",
   "version": "3.12.8"
  }
 },
 "nbformat": 4,
 "nbformat_minor": 2
}
